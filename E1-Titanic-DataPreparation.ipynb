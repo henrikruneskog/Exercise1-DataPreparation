{
 "cells": [
  {
   "cell_type": "markdown",
   "id": "4c2704d8",
   "metadata": {},
   "source": [
    "## Exercise 1\n",
    "Vi ska preparera ett dataset som ska användas för att förutspå vilka på Titanic som överlever.\n",
    "1. Importera datasetet till en pandas dataframe\n",
    "2. Undersök varje kolumns dtype. Ser allt ok ut?\n",
    "3. Hur många rader/kolumner finns det?\n",
    "4. Undersök de första raderna i datasetet med .head(n)\n",
    "5. Vilka kolumner som innehåller avsaknade värden (NaN, null, NaT, etc.).\n",
    "6. Av dessa kolumner, hur stor andel av raderna är avsaknade värden?\n",
    "7. Ta fram generell statistik för datasetet med hjälp av df.describe() (HINT: df.describe() visar bara numeriska kolumner).\n",
    "    - Vem var den äldsta passageraren på båten?\n",
    "    - Vad var det genomsnittliga priset för en biljett?\n",
    "    - Vad var det lägsta priset för en biljett?\n",
    "    - Hur stor var den största familjen ombord?\n",
    "8. Ta bort irrelevanta kolumner. Vilka attribut avgör egentligen chansen att överleva?\n",
    "9. Maskininlärningsalgoritmer ogillar NaN, null och NaT. De kolumner som innehåller avsaknade värden - kan vi byta ut dessa mot ett faktiskt värde?\n",
    "10. Normalisera våra features på ett vettigt sätt.\n",
    "11. Dela upp vårt dataset i features och target (X, y)\n",
    "12. Använd sklearn.model_selection.train_test_split för att dela upp dataset i testset och träningsset (X_train, y_train, X_test, y_test)\n",
    "    - pip install scikit-learn\n",
    "\n",
    "\n",
    "Förklaring:\n",
    "- PassangerId: ett specifikt id för varje passagerare\n",
    "- Survived: överlevde passageraren\n",
    "- Pclass: vilken klass passageraren befann sig i.\n",
    "- Name: passagerarens namn\n",
    "- sex: passagerarens kön\n",
    "- age: passagerarens ålder\n",
    "- SibSp: medpassagerare (syskon eller partner)\n",
    "- Parch: reser med förälder eller barn\n",
    "- Ticket: biljettnummer\n",
    "- Fare: biljettpris\n",
    "- Cabin: hyttnummer\n",
    "- Embarked: vart gick personen på? (ex. \"S\" = \"Southampton\")"
   ]
  },
  {
   "cell_type": "code",
   "execution_count": 3,
   "id": "5b34d6c2",
   "metadata": {},
   "outputs": [],
   "source": [
    "import pandas as pd\n",
    "from sklearn.model_selection import train_test_split\n",
    "df = pd.read_csv('titanic_messy.csv')"
   ]
  }
 ],
 "metadata": {
  "kernelspec": {
   "display_name": "Python 3 (ipykernel)",
   "language": "python",
   "name": "python3"
  },
  "language_info": {
   "codemirror_mode": {
    "name": "ipython",
    "version": 3
   },
   "file_extension": ".py",
   "mimetype": "text/x-python",
   "name": "python",
   "nbconvert_exporter": "python",
   "pygments_lexer": "ipython3",
   "version": "3.8.11"
  }
 },
 "nbformat": 4,
 "nbformat_minor": 5
}
